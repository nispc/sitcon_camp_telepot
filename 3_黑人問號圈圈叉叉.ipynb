{
 "cells": [
  {
   "cell_type": "code",
   "execution_count": 1,
   "metadata": {
    "collapsed": true
   },
   "outputs": [],
   "source": [
    "import sys\n",
    "import time\n",
    "import telepot\n",
    "from telepot.loop import MessageLoop\n",
    "from telepot.namedtuple import (\n",
    "    InlineKeyboardMarkup, \n",
    "    InlineKeyboardButton, \n",
    "    InlineQueryResultArticle, \n",
    "    InputTextMessageContent\n",
    ")"
   ]
  },
  {
   "cell_type": "code",
   "execution_count": 2,
   "metadata": {
    "collapsed": true
   },
   "outputs": [],
   "source": [
    "# inline \n",
    "inline_games = {}\n",
    "\n",
    "TOKEN = \"349647333:AAGZEU1w8-aIBJp5ianzhjp1p_zaDJx-Ccc\""
   ]
  },
  {
   "cell_type": "code",
   "execution_count": 3,
   "metadata": {
    "collapsed": true
   },
   "outputs": [],
   "source": [
    "def build_keyboard(keyqueue):   \n",
    "    keydict = {key: value for key, value in keyqueue}\n",
    "    \n",
    "    # 我之後會改，Sorrrrrrrrrrry\n",
    "    keyboard = [[\n",
    "        InlineKeyboardButton(\n",
    "            text=keydict[i*3+j] if (i*3+j) in keydict.keys() else \"　\",\n",
    "            callback_data=\"choice_{}\".format(i*3+j)\n",
    "        ) for j in range(3)\n",
    "    ] for i in range(3)]\n",
    "        \n",
    "    return keyboard\n",
    "\n",
    "def on_chat(msg):\n",
    "    content_type, chat_type, chat_id = telepot.glance(msg)\n",
    "    print(content_type, chat_type, chat_id)\n",
    "\n",
    "    keyboard = InlineKeyboardMarkup(inline_keyboard=[\n",
    "                [InlineKeyboardButton(text=\"前往選單！\", switch_inline_query='start')],\n",
    "            ])\n",
    "\n",
    "    bot.sendMessage(chat_id=chat_id, text=\"您可以選擇一位朋友一起玩圈圈叉叉\", reply_markup=keyboard)\n",
    "\n",
    "def on_inline_query(msg):\n",
    "    # http://telepot.readthedocs.io/en/latest/#inline-query\n",
    "    query_id, from_id, query_string = telepot.glance(msg, flavor='inline_query')\n",
    "\n",
    "    articles = [InlineQueryResultArticle(\n",
    "                    id='start_game',\n",
    "                    title='開始遊戲',\n",
    "                    input_message_content=InputTextMessageContent(\n",
    "                        message_text='先下棋者為 ⭕'\n",
    "                    ),\n",
    "                    reply_markup=InlineKeyboardMarkup(inline_keyboard=build_keyboard([]))\n",
    "               )]\n",
    "\n",
    "    bot.answerInlineQuery(query_id, articles)\n",
    "\n",
    "def on_chosen_inline_result(msg):\n",
    "    # 建立一個空的棋譜（落子順序）\n",
    "    global inline_games\n",
    "    inline_games[msg['inline_message_id']] = []\n",
    "\n",
    "def on_callback_query(msg):\n",
    "    query_id, from_id, query_data = telepot.glance(msg, flavor='callback_query')\n",
    "\n",
    "    global inline_games\n",
    "    keyqueue = inline_games[msg['inline_message_id']]\n",
    "\n",
    "    callback_key = int(query_data[7]) # example: choice_0\n",
    "    put_piece = \"❌\" if len(keyqueue)%2 else \"⭕\"\n",
    "\n",
    "    keyqueue.append((callback_key, put_piece))\n",
    "\n",
    "    bot.editMessageText(\n",
    "        msg_identifier=(msg['inline_message_id'], ),\n",
    "        text=\"先下棋者為 ⭕\",\n",
    "        reply_markup=InlineKeyboardMarkup(inline_keyboard=build_keyboard(keyqueue[-5:]))\n",
    "    )\n",
    "    print(telepot.glance(msg, flavor='callback_query'))\n",
    "    print(keyqueue)"
   ]
  },
  {
   "cell_type": "code",
   "execution_count": null,
   "metadata": {},
   "outputs": [
    {
     "name": "stdout",
     "output_type": "stream",
     "text": [
      "Listening ...\n",
      "('909717131139540005', 211810025, 'choice_3')\n",
      "[(3, '⭕')]\n",
      "('909717130730756378', 211810025, 'choice_5')\n",
      "[(3, '⭕'), (5, '❌')]\n"
     ]
    }
   ],
   "source": [
    "bot = telepot.Bot(TOKEN)\n",
    "MessageLoop(bot, {\n",
    "    'chat': on_chat,\n",
    "    'inline_query': on_inline_query,\n",
    "    'chosen_inline_result': on_chosen_inline_result,\n",
    "    'callback_query': on_callback_query\n",
    "}).run_as_thread()\n",
    "\n",
    "print('Listening ...')\n",
    "\n",
    "# Keep the program running.\n",
    "while 1:\n",
    "    time.sleep(10)"
   ]
  },
  {
   "cell_type": "code",
   "execution_count": null,
   "metadata": {
    "collapsed": true
   },
   "outputs": [],
   "source": []
  }
 ],
 "metadata": {
  "anaconda-cloud": {},
  "kernelspec": {
   "display_name": "Python [conda root]",
   "language": "python",
   "name": "conda-root-py"
  },
  "language_info": {
   "codemirror_mode": {
    "name": "ipython",
    "version": 3
   },
   "file_extension": ".py",
   "mimetype": "text/x-python",
   "name": "python",
   "nbconvert_exporter": "python",
   "pygments_lexer": "ipython3",
   "version": "3.5.2"
  }
 },
 "nbformat": 4,
 "nbformat_minor": 1
}
