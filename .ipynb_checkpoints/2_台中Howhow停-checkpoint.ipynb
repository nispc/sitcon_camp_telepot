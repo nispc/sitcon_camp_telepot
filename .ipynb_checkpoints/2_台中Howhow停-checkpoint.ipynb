{
 "cells": [
  {
   "cell_type": "code",
   "execution_count": 1,
   "metadata": {
    "collapsed": true
   },
   "outputs": [],
   "source": [
    "import sys\n",
    "import time\n",
    "import telepot\n",
    "from telepot.loop import MessageLoop\n",
    "from telepot.namedtuple import (\n",
    "    InlineQueryResultArticle,\n",
    "    InlineKeyboardMarkup,\n",
    "    InputTextMessageContent\n",
    "    \n",
    ")\n",
    "from random import choice\n",
    "import requests\n",
    "import json"
   ]
  },
  {
   "cell_type": "code",
   "execution_count": 2,
   "metadata": {
    "collapsed": true
   },
   "outputs": [],
   "source": [
    "TOKEN = '447736496:AAGGq6Lg7EThRLpGFDAVh0Qp9e1yLd-6w-A'"
   ]
  },
  {
   "cell_type": "code",
   "execution_count": 3,
   "metadata": {
    "collapsed": true
   },
   "outputs": [],
   "source": [
    "parking_api = \"http://e-traffic.taichung.gov.tw/DataAPI/api/ParkingAPI\"\n",
    "response = requests.get(parking_api)\n",
    "parking_place = json.loads(response.text)"
   ]
  },
  {
   "cell_type": "code",
   "execution_count": 4,
   "metadata": {
    "collapsed": true
   },
   "outputs": [],
   "source": [
    "# parking_place"
   ]
  },
  {
   "cell_type": "code",
   "execution_count": 5,
   "metadata": {
    "collapsed": true
   },
   "outputs": [],
   "source": [
    "# parking_place"
   ]
  },
  {
   "cell_type": "code",
   "execution_count": 6,
   "metadata": {
    "collapsed": true
   },
   "outputs": [],
   "source": [
    "def on_inline_query(msg):\n",
    "    print(msg)\n",
    "    query_id, from_id, query_string = telepot.glance(msg, flavor='inline_query')\n",
    "    location = msg[\"location\"]\n",
    "    \n",
    "    parking_place.sort(key=lambda t: abs(complex(t['X'],t['Y'])-complex(location[\"longitude\"], location[\"latitude\"])))\n",
    "    \n",
    "    articles = []\n",
    "    for i in parking_place[:15]:\n",
    "        articles.append(InlineQueryResultArticle(\n",
    "            id=i['ID'],\n",
    "            title=i['Position'],   \n",
    "            input_message_content=InputTextMessageContent(\n",
    "                        message_text='您選的停車場為{}'.format(i['Position'])\n",
    "            ),\n",
    "        ))\n",
    "\n",
    "    bot.answerInlineQuery(query_id, articles, cache_time=0)"
   ]
  },
  {
   "cell_type": "code",
   "execution_count": 7,
   "metadata": {
    "scrolled": true
   },
   "outputs": [
    {
     "name": "stdout",
     "output_type": "stream",
     "text": [
      "Listening ...\n"
     ]
    }
   ],
   "source": [
    "bot = telepot.Bot(TOKEN)\n",
    "MessageLoop(bot, {\n",
    "    'inline_query': on_inline_query,\n",
    "}).run_as_thread()\n",
    "\n",
    "print('Listening ...')"
   ]
  },
  {
   "cell_type": "code",
   "execution_count": null,
   "metadata": {
    "collapsed": true
   },
   "outputs": [],
   "source": []
  },
  {
   "cell_type": "code",
   "execution_count": null,
   "metadata": {
    "collapsed": true
   },
   "outputs": [],
   "source": []
  }
 ],
 "metadata": {
  "anaconda-cloud": {},
  "kernelspec": {
   "display_name": "Python [conda root]",
   "language": "python",
   "name": "conda-root-py"
  },
  "language_info": {
   "codemirror_mode": {
    "name": "ipython",
    "version": 3
   },
   "file_extension": ".py",
   "mimetype": "text/x-python",
   "name": "python",
   "nbconvert_exporter": "python",
   "pygments_lexer": "ipython3",
   "version": "3.5.2"
  }
 },
 "nbformat": 4,
 "nbformat_minor": 1
}
