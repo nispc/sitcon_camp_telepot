{
 "cells": [
  {
   "cell_type": "code",
   "execution_count": 1,
   "metadata": {
    "collapsed": true
   },
   "outputs": [],
   "source": [
    "import telepot\n",
    "from telepot.loop import MessageLoop\n",
    "from telepot.namedtuple import (\n",
    "    ReplyKeyboardMarkup, \n",
    "    KeyboardButton,\n",
    "    InlineKeyboardMarkup,\n",
    "    InlineKeyboardButton\n",
    ")\n",
    "from random import choice\n",
    "import json"
   ]
  },
  {
   "cell_type": "code",
   "execution_count": 2,
   "metadata": {
    "collapsed": true
   },
   "outputs": [],
   "source": [
    "TOKEN = '353721117:AAEUW6ejC4ckgY3t8uwkt8UOwuBtl23lBeo'"
   ]
  },
  {
   "cell_type": "markdown",
   "metadata": {},
   "source": [
    "# Inline Keyboard的應用"
   ]
  },
  {
   "cell_type": "markdown",
   "metadata": {},
   "source": [
    "如何傳送及包裝一個Inline Keyboard？\n",
    "* bot.sendMessage <- ( reply_markup ) InlineKeyboardMarkup <- ( inline_keyboard ) InlineKeyboardButton"
   ]
  },
  {
   "cell_type": "code",
   "execution_count": 3,
   "metadata": {
    "collapsed": true
   },
   "outputs": [],
   "source": [
    "def print_msg(msg):\n",
    "    print(json.dumps(msg, indent=4))\n",
    "\n",
    "def on_chat(msg):\n",
    "    header = telepot.glance(msg, flavor=\"chat\")\n",
    "    \n",
    "    print_msg(msg)\n",
    "\n",
    "    if header[0] == \"text\":\n",
    "        text = msg[\"text\"]\n",
    "        # command\n",
    "        if text.startswith(\"/\"):\n",
    "            command = text.lstrip(\"/\")\n",
    "            \n",
    "            if command == \"start\":\n",
    "                text = \"OK， {}\\n你準備好了...... 就直接開始\"\n",
    "                bot.sendMessage(header[2], text.format(msg[\"from\"][\"first_name\"]))\n",
    "        # other msg\n",
    "        else: \n",
    "            # 我覺得不行！\n",
    "            image_url = \"http://cdn.clickme.net/Gallery/2017/08/03/276fabbc7e183af4dab5c295102c0cd9.jpg\"\n",
    "            bot.sendPhoto(header[2], image_url)\n",
    "\n",
    "            # 回應按鈕\n",
    "            replyKeyboard = InlineKeyboardMarkup(inline_keyboard=[\n",
    "                [\n",
    "                    InlineKeyboardButton(\n",
    "                        text=\"在一個穩定的發揮後，卻得到一個這樣的反饋。我覺得有點失控\",\n",
    "                        callback_data=\"test\"\n",
    "                    )\n",
    "                ]\n",
    "            ])\n",
    "            bot.sendMessage(header[2], text=\"選擇回應\", reply_markup=replyKeyboard)\n",
    "\n",
    "def on_callback_query(msg):\n",
    "    header = telepot.glance(msg, flavor='callback_query')\n",
    "    \n",
    "    ans_list = [\n",
    "        \"這樣其實有點尷尬...\",\n",
    "        \"我覺得其實OK\",\n",
    "        \"我覺得這樣有失公正\",\n",
    "        \"還有別的嗎？還有Freestyle嗎？\",\n",
    "        \"阿嶽真的很嚴格，比我想像中的還要嚴格\",\n",
    "        \"如果他可以的話，{}一定也可以\".format(msg[\"from\"][\"first_name\"])\n",
    "    ]\n",
    "    \n",
    "    bot.answerCallbackQuery(header[0], choice(ans_list))"
   ]
  },
  {
   "cell_type": "markdown",
   "metadata": {},
   "source": [
    "# MessageLoop\n",
    "它可以是\n",
    "* 白洞\n",
    "* 訊息產生器\n",
    "* 任務分派中心"
   ]
  },
  {
   "cell_type": "code",
   "execution_count": 4,
   "metadata": {},
   "outputs": [
    {
     "name": "stdout",
     "output_type": "stream",
     "text": [
      "Listening ...\n",
      "{\n",
      "    \"from\": {\n",
      "        \"username\": \"nispc\",\n",
      "        \"id\": 211810025,\n",
      "        \"last_name\": \"\\u502a\",\n",
      "        \"language_code\": \"zh-Hant-TW\",\n",
      "        \"first_name\": \"\\u9235\\u65af\"\n",
      "    },\n",
      "    \"chat\": {\n",
      "        \"username\": \"nispc\",\n",
      "        \"id\": 211810025,\n",
      "        \"type\": \"private\",\n",
      "        \"last_name\": \"\\u502a\",\n",
      "        \"first_name\": \"\\u9235\\u65af\"\n",
      "    },\n",
      "    \"text\": \"\\u4f60\\u597d\",\n",
      "    \"message_id\": 165,\n",
      "    \"date\": 1502851483\n",
      "}\n"
     ]
    }
   ],
   "source": [
    "bot = telepot.Bot(TOKEN)\n",
    "MessageLoop(bot, {\n",
    "    'chat': on_chat,\n",
    "    'callback_query': on_callback_query,\n",
    "}).run_as_thread()\n",
    "\n",
    "print('Listening ...')"
   ]
  },
  {
   "cell_type": "code",
   "execution_count": null,
   "metadata": {
    "collapsed": true
   },
   "outputs": [],
   "source": []
  },
  {
   "cell_type": "code",
   "execution_count": null,
   "metadata": {
    "collapsed": true
   },
   "outputs": [],
   "source": []
  }
 ],
 "metadata": {
  "anaconda-cloud": {},
  "kernelspec": {
   "display_name": "Python [conda root]",
   "language": "python",
   "name": "conda-root-py"
  },
  "language_info": {
   "codemirror_mode": {
    "name": "ipython",
    "version": 3
   },
   "file_extension": ".py",
   "mimetype": "text/x-python",
   "name": "python",
   "nbconvert_exporter": "python",
   "pygments_lexer": "ipython3",
   "version": "3.5.2"
  }
 },
 "nbformat": 4,
 "nbformat_minor": 1
}
